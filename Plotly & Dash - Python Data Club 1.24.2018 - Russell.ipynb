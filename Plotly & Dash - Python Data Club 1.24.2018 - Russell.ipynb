{
 "cells": [
  {
   "cell_type": "markdown",
   "metadata": {},
   "source": [
    "# Interactive Python visualization dashboards with Plotly and Dash"
   ]
  },
  {
   "cell_type": "markdown",
   "metadata": {},
   "source": [
    "##### Russell Romney, 1/24/2018\n",
    "\n",
    "\n",
    "### Python has very powerful data tools, but interactive visualization is a way to make the data come to life for the user\n",
    "\n",
    "---\n",
    "\n",
    "**What we are going to do today:**\n",
    "\n",
    "1. Python: what you need to know\n",
    "2. Linear regression: basics\n",
    "3. Making a basic interactice Dash app\n",
    "3. Making a Plotly chart in a Dash app\n",
    "3. Making an interactive chart in a Dash app\n",
    "4. Interactive linear regression in a Dash app\n",
    "\n",
    "Helpful links:\n",
    "\n",
    "dataset: [Graduate admissions data from Kaggle](https://www.kaggle.com/mohansacharya/graduate-admissions/home)\n",
    "\n",
    "github repo with all the code and this Jupyter Notebook: [python4data-dash repo @ github](https://github.com/russellromney/python4data-dash)\n",
    "\n",
    "Dash documentation: [Plotly Dash Docs](https://dash.plot.ly/)\n",
    "\n",
    "\n",
    "I AM DOING ALL THIS ON A MACBOOK - BUT YOU CAN DO THIS ON A WINDOWS MACHINE AS WELL; IT IS EASIEST TO USE THE ANACONDA PROMPT THAT COMES WITH THE ANACONDA DISTRIBUTION INSTEAD OF TRYING TO DO THIS AT THE WINDOWS COMMAND LINE (IF YOU DO NOT HAVE EXPERIENCE)"
   ]
  },
  {
   "cell_type": "markdown",
   "metadata": {},
   "source": [
    "## Python: what you need to know\n",
    "\n",
    "\n",
    "GET STARTED\n",
    "\n",
    "Download and install Anaconda with Python 3.5, 3.6, or 3.7. You won't need it **necessarily** if you are on a Mac or Linux, but it's a really great thing to have if you are using Python to code.\n",
    "\n",
    "Packages you need:\n",
    "\n",
    "* Comes with Anaconda: `pandas scikit-learn`\n",
    "* Doesn't come with: `dash dash-core-components dash-html-components dash-renderer`\n",
    "\n",
    "We are not working in Jupyter Notebook today. You will need an IDE (a place to write and edit code) - I use Visual Studio Code as I think it is the fastest and most usable, but Atom, PyCharm, Notepad++, and many other options are very good as well. You could even use a text document for this, but it wouldn't do syntax highlighting.\n",
    "\n",
    "\n",
    "### Coding in Python for data\n",
    "\n",
    "Pandas dataframe (remember from Frank last week?)"
   ]
  },
  {
   "cell_type": "code",
   "execution_count": 26,
   "metadata": {},
   "outputs": [
    {
     "data": {
      "text/html": [
       "<div>\n",
       "<style scoped>\n",
       "    .dataframe tbody tr th:only-of-type {\n",
       "        vertical-align: middle;\n",
       "    }\n",
       "\n",
       "    .dataframe tbody tr th {\n",
       "        vertical-align: top;\n",
       "    }\n",
       "\n",
       "    .dataframe thead th {\n",
       "        text-align: right;\n",
       "    }\n",
       "</style>\n",
       "<table border=\"1\" class=\"dataframe\">\n",
       "  <thead>\n",
       "    <tr style=\"text-align: right;\">\n",
       "      <th></th>\n",
       "      <th>Serial No.</th>\n",
       "      <th>GRE Score</th>\n",
       "      <th>TOEFL Score</th>\n",
       "      <th>University Rating</th>\n",
       "      <th>SOP</th>\n",
       "      <th>LOR</th>\n",
       "      <th>CGPA</th>\n",
       "      <th>Research</th>\n",
       "      <th>Chance of Admit</th>\n",
       "    </tr>\n",
       "  </thead>\n",
       "  <tbody>\n",
       "    <tr>\n",
       "      <th>0</th>\n",
       "      <td>1</td>\n",
       "      <td>337</td>\n",
       "      <td>118</td>\n",
       "      <td>4</td>\n",
       "      <td>4.5</td>\n",
       "      <td>4.5</td>\n",
       "      <td>9.65</td>\n",
       "      <td>1</td>\n",
       "      <td>0.92</td>\n",
       "    </tr>\n",
       "    <tr>\n",
       "      <th>1</th>\n",
       "      <td>2</td>\n",
       "      <td>324</td>\n",
       "      <td>107</td>\n",
       "      <td>4</td>\n",
       "      <td>4.0</td>\n",
       "      <td>4.5</td>\n",
       "      <td>8.87</td>\n",
       "      <td>1</td>\n",
       "      <td>0.76</td>\n",
       "    </tr>\n",
       "    <tr>\n",
       "      <th>2</th>\n",
       "      <td>3</td>\n",
       "      <td>316</td>\n",
       "      <td>104</td>\n",
       "      <td>3</td>\n",
       "      <td>3.0</td>\n",
       "      <td>3.5</td>\n",
       "      <td>8.00</td>\n",
       "      <td>1</td>\n",
       "      <td>0.72</td>\n",
       "    </tr>\n",
       "    <tr>\n",
       "      <th>3</th>\n",
       "      <td>4</td>\n",
       "      <td>322</td>\n",
       "      <td>110</td>\n",
       "      <td>3</td>\n",
       "      <td>3.5</td>\n",
       "      <td>2.5</td>\n",
       "      <td>8.67</td>\n",
       "      <td>1</td>\n",
       "      <td>0.80</td>\n",
       "    </tr>\n",
       "    <tr>\n",
       "      <th>4</th>\n",
       "      <td>5</td>\n",
       "      <td>314</td>\n",
       "      <td>103</td>\n",
       "      <td>2</td>\n",
       "      <td>2.0</td>\n",
       "      <td>3.0</td>\n",
       "      <td>8.21</td>\n",
       "      <td>0</td>\n",
       "      <td>0.65</td>\n",
       "    </tr>\n",
       "    <tr>\n",
       "      <th>5</th>\n",
       "      <td>6</td>\n",
       "      <td>330</td>\n",
       "      <td>115</td>\n",
       "      <td>5</td>\n",
       "      <td>4.5</td>\n",
       "      <td>3.0</td>\n",
       "      <td>9.34</td>\n",
       "      <td>1</td>\n",
       "      <td>0.90</td>\n",
       "    </tr>\n",
       "    <tr>\n",
       "      <th>6</th>\n",
       "      <td>7</td>\n",
       "      <td>321</td>\n",
       "      <td>109</td>\n",
       "      <td>3</td>\n",
       "      <td>3.0</td>\n",
       "      <td>4.0</td>\n",
       "      <td>8.20</td>\n",
       "      <td>1</td>\n",
       "      <td>0.75</td>\n",
       "    </tr>\n",
       "    <tr>\n",
       "      <th>7</th>\n",
       "      <td>8</td>\n",
       "      <td>308</td>\n",
       "      <td>101</td>\n",
       "      <td>2</td>\n",
       "      <td>3.0</td>\n",
       "      <td>4.0</td>\n",
       "      <td>7.90</td>\n",
       "      <td>0</td>\n",
       "      <td>0.68</td>\n",
       "    </tr>\n",
       "    <tr>\n",
       "      <th>8</th>\n",
       "      <td>9</td>\n",
       "      <td>302</td>\n",
       "      <td>102</td>\n",
       "      <td>1</td>\n",
       "      <td>2.0</td>\n",
       "      <td>1.5</td>\n",
       "      <td>8.00</td>\n",
       "      <td>0</td>\n",
       "      <td>0.50</td>\n",
       "    </tr>\n",
       "    <tr>\n",
       "      <th>9</th>\n",
       "      <td>10</td>\n",
       "      <td>323</td>\n",
       "      <td>108</td>\n",
       "      <td>3</td>\n",
       "      <td>3.5</td>\n",
       "      <td>3.0</td>\n",
       "      <td>8.60</td>\n",
       "      <td>0</td>\n",
       "      <td>0.45</td>\n",
       "    </tr>\n",
       "  </tbody>\n",
       "</table>\n",
       "</div>"
      ],
      "text/plain": [
       "   Serial No.  GRE Score  TOEFL Score  University Rating  SOP  LOR   CGPA  \\\n",
       "0           1        337          118                  4  4.5   4.5  9.65   \n",
       "1           2        324          107                  4  4.0   4.5  8.87   \n",
       "2           3        316          104                  3  3.0   3.5  8.00   \n",
       "3           4        322          110                  3  3.5   2.5  8.67   \n",
       "4           5        314          103                  2  2.0   3.0  8.21   \n",
       "5           6        330          115                  5  4.5   3.0  9.34   \n",
       "6           7        321          109                  3  3.0   4.0  8.20   \n",
       "7           8        308          101                  2  3.0   4.0  7.90   \n",
       "8           9        302          102                  1  2.0   1.5  8.00   \n",
       "9          10        323          108                  3  3.5   3.0  8.60   \n",
       "\n",
       "   Research  Chance of Admit   \n",
       "0         1              0.92  \n",
       "1         1              0.76  \n",
       "2         1              0.72  \n",
       "3         1              0.80  \n",
       "4         0              0.65  \n",
       "5         1              0.90  \n",
       "6         1              0.75  \n",
       "7         0              0.68  \n",
       "8         0              0.50  \n",
       "9         0              0.45  "
      ]
     },
     "execution_count": 26,
     "metadata": {},
     "output_type": "execute_result"
    }
   ],
   "source": [
    "import pandas as pd\n",
    "df = pd.read_csv('Admission_Predict_Ver1.1.csv')\n",
    "df.head(10)"
   ]
  },
  {
   "cell_type": "markdown",
   "metadata": {},
   "source": [
    "ADDING COLUMNS"
   ]
  },
  {
   "cell_type": "code",
   "execution_count": 27,
   "metadata": {},
   "outputs": [],
   "source": [
    "# change the column names to remove weird spaces\n",
    "df.columns = [x.strip() for x in df.columns]\n",
    "\n",
    "# add new columns with combined data\n",
    "df['SOP_LOR'] = df.SOP + df.LOR\n",
    "df['SOP_LOR_UR'] = df.SOP + df.LOR + df['University Rating']\n",
    "df['LOR_UR'] = df.LOR + df['University Rating']\n",
    "df['SOP_UR'] = df.SOP + df['University Rating']\n"
   ]
  },
  {
   "cell_type": "markdown",
   "metadata": {},
   "source": [
    "DICTIONARIES"
   ]
  },
  {
   "cell_type": "code",
   "execution_count": 28,
   "metadata": {},
   "outputs": [
    {
     "name": "stdout",
     "output_type": "stream",
     "text": [
      "{'one': '1', 'two': '2'}\n",
      "{'one': '1', 'two': '2'}\n",
      "True\n"
     ]
    },
    {
     "data": {
      "text/plain": [
       "'1'"
      ]
     },
     "execution_count": 28,
     "metadata": {},
     "output_type": "execute_result"
    }
   ],
   "source": [
    "# key:value pairs\n",
    "# two ways\n",
    "\n",
    "d1 = dict(one='1',two='2')\n",
    "print(d1)\n",
    "\n",
    "d2 = {\"one\":\"1\",\"two\":\"2\"}\n",
    "print(d2)\n",
    "\n",
    "print(d1==d2)\n",
    "d1['one']"
   ]
  },
  {
   "cell_type": "markdown",
   "metadata": {},
   "source": [
    "DEFINING FUNCTIONS"
   ]
  },
  {
   "cell_type": "code",
   "execution_count": 29,
   "metadata": {},
   "outputs": [
    {
     "data": {
      "text/plain": [
       "'go is first; vandals is second but not third'"
      ]
     },
     "execution_count": 29,
     "metadata": {},
     "output_type": "execute_result"
    }
   ],
   "source": [
    "def function_1(input1, input2):\n",
    "    a = input1 + \" is first; \"\n",
    "    b = input2 + \" is second but not third\"\n",
    "    return a+b\n",
    "\n",
    "function_1(\"go\",\"vandals\")"
   ]
  },
  {
   "cell_type": "markdown",
   "metadata": {},
   "source": [
    "RUNNING A PYTHON FILE\n",
    "\n",
    "assuming python script is named app.py:\n",
    "\n",
    "`$ python3 app.py`"
   ]
  },
  {
   "cell_type": "markdown",
   "metadata": {},
   "source": [
    "LOCALHOST SERVERS\n",
    "\n",
    "Websites are hosted on servers. You can host a fake server on your local computer at `http://localhost:<PORT>`\n",
    "\n",
    "Flask is a web microframework that comes with a built-in server. When you run a file using Flask, you can use the built-in development server that runs on `localhost:5000`"
   ]
  },
  {
   "cell_type": "markdown",
   "metadata": {},
   "source": [
    "## Making a basic interactive Dash app\n",
    "\n",
    "Dash is an extension of `Flask` that makes it easy to create `HTML objects` in Python with the `React.js framework` which allows you to communicate and asynchronously change/update parts of the webapp without reloading the whole page.\n",
    "\n",
    "You pass special HTML objects to the Dash app, which renders them as real HTML objects in a webapp. To start, you can use the development server to see these webapps or even run them on servers like I do.\n",
    "\n",
    "An example of a simple Dash app I made: [Mortgage Years App](https://mortgage-years.herokuapp.com)\n",
    "\n",
    "#### How it works\n",
    "\n",
    "Each HTML object can have an ID and several attributes. Dash provides special HTML objects in the `dash_html_components` module that are a lot like normal HTML objects, and wrappers for React components (HTML objects that you can easily talk to) in the `dash_core_components` module. You can even build them yourself if you'd like!\n",
    "\n",
    "PRO DASH TIP:\n",
    "\n",
    "`import dash`\n",
    "\n",
    "`import dash_core_components as dcc` \n",
    "\n",
    "`import dash_html_components as html`\n",
    "\n",
    "`from dash.dependencies import Input, Output`\n",
    "\n",
    "CALLBACKS\n",
    "\n",
    "Dash lets you define `callback functions` that listen for changes in the special HTML and React objects. When a change happens, you can automatically update an attribute of any of the other objects on the page based on the values of any or many of the other objects. \n",
    "\n",
    "DOES THIS MAKE SENSE? MAYBE NOT?\n",
    "\n",
    "#### LET'S SEE THIS IN ACTION!  ---> IDE\n",
    "\n",
    "`app1.py`"
   ]
  },
  {
   "cell_type": "markdown",
   "metadata": {},
   "source": [
    "---\n",
    "\n",
    "## Making a Plotly chart in a Dash app\n",
    "\n",
    "Plotly is an interactive charting library built on top of D3.js, but all you need to know is that `Plotly lets you easily pass special dictionaries of attributes to a figure that you then plot`.\n",
    "\n",
    "#### PLOTLY CHARTING FLOW\n",
    "\n",
    "`import plotly.graph_objs as go`\n",
    "\n",
    "**data**: a list of graph object (special dictionaries) from `plotly.graph_objs`; e.g. `go.Scatter`, `go.Bar`, `go.Histogram`, etc. These are \"traces\" - they are added and removed from the canvas at will, and are not really connected in the graph. This makes it very easy to add new layers to the graph.\n",
    "\n",
    "**layout**: a special dictionary `go.Layout` of chart layout attributes\n",
    "\n",
    "**figure**: a special dictionary `go.Figure` containing a data object and a layout object; this is the thing you plot\n",
    "\n",
    "1 NEW THING\n",
    "* static graph that shows a static relationship between two variables\n",
    "\n",
    "#### LET'S SEE THIS IN ACTION! ---> IDE¶\n",
    "\n",
    "`app2.py`"
   ]
  },
  {
   "cell_type": "markdown",
   "metadata": {},
   "source": [
    "---\n",
    "\n",
    "## Making an interactive Plotly chart in a Dash app"
   ]
  },
  {
   "cell_type": "markdown",
   "metadata": {},
   "source": [
    "This is where we start to abstract things away a little bit - and we start to see the real power of Dash and Plotly.\n",
    "\n",
    "We want to see the relationship between any of the variables and the chance of admission, without needing to create many new graphs. \n",
    "\n",
    "HOW WE WILL DO IT\n",
    "\n",
    "We will create a dropdown menu where we can select the name of the column we want to visualize. Then, whichever column name is passed, we will update the graph's `figure` attribute with a new scatter plot of the data for that column.\n",
    "\n",
    "2 NEW THINGS:\n",
    "* dropdown menu\n",
    "* function to update the graph\n",
    "\n",
    "#### LET'S SEE THIS IN ACTION! ---> IDE¶\n",
    "\n",
    "`app3.py`"
   ]
  },
  {
   "cell_type": "markdown",
   "metadata": {},
   "source": [
    "---\n",
    "\n",
    "## Interactive linear regression in a Dash app\n",
    "\n",
    "(If we have time or if people are interested)\n",
    "\n",
    "> \"This gives you superpowers\" - Russell\n",
    "\n",
    "Creating models again and again is boring, and creating lots of graphs is also boring. Let's figure out a way to get around this. "
   ]
  },
  {
   "cell_type": "markdown",
   "metadata": {},
   "source": [
    "### Linear regression: basics\n",
    "\n",
    "Generally: a \"line of best fit\" for a given variable, as predicted by other variables. \n",
    "\n",
    "Goal: create a line that minimizes the error between the predicted results and the actual results.\n",
    "\n",
    "**How to do this in Python (very simple):**\n",
    "1. split your data into train and test data\n",
    "2. create a linear regression model INSTANCE\n",
    "2. fit the model to your TRAIN DATA\n",
    "3. use the fitted model to predict values for your TEST DATA\n",
    "3. determine the model's accuracy\n",
    "\n",
    "In our example, we will only use one variable to predict the new values. The output is a coefficient that tells us the magnitude of the relationship between the target variable (the one we are trying to predict) and the explanatory variable (the one we are using to predict the target).\n",
    "\n",
    "> One way to determine the model's quality is to look at the R^2 - the percentage of variation in the test data explained by the explanatory variable"
   ]
  },
  {
   "cell_type": "code",
   "execution_count": 22,
   "metadata": {},
   "outputs": [],
   "source": [
    "# import the objects we use\n",
    "from sklearn.model_selection import train_test_split\n",
    "from sklearn.linear_model import LinearRegression\n",
    "from sklearn.metrics import r2_score"
   ]
  },
  {
   "cell_type": "code",
   "execution_count": 23,
   "metadata": {},
   "outputs": [],
   "source": [
    "# split the data into train and test data\n",
    "import numpy as np\n",
    "x = np.array(df['GRE Score']).reshape(-1,1)\n",
    "y = df['Chance of Admit']\n",
    "x_train,x_test,y_train,y_test = train_test_split(x,y,test_size=.35)\n",
    "\n",
    "# create the model\n",
    "lr = LinearRegression()\n",
    "\n",
    "# fit the model to the data\n",
    "lr.fit(x_train,y_train)\n",
    "\n",
    "# create predictions\n",
    "pred = lr.predict(x_test)"
   ]
  },
  {
   "cell_type": "code",
   "execution_count": 24,
   "metadata": {},
   "outputs": [
    {
     "data": {
      "text/plain": [
       "array([0.01016382])"
      ]
     },
     "execution_count": 24,
     "metadata": {},
     "output_type": "execute_result"
    }
   ],
   "source": [
    "# coefficient\n",
    "lr.coef_"
   ]
  },
  {
   "cell_type": "code",
   "execution_count": 25,
   "metadata": {},
   "outputs": [
    {
     "data": {
      "text/plain": [
       "0.5996766572568488"
      ]
     },
     "execution_count": 25,
     "metadata": {},
     "output_type": "execute_result"
    }
   ],
   "source": [
    "r2_score(y_test,pred)"
   ]
  },
  {
   "cell_type": "markdown",
   "metadata": {},
   "source": [
    "What we can do is use the same concept from the last app:\n",
    "* take in a column name\n",
    "* plot the data for that column\n",
    "\n",
    "...but we add a few steps:\n",
    "* split the data into train and test sets\n",
    "* create a linear regression model for that column\n",
    "* create predictions\n",
    "* see how good the model is\n",
    "* plot the results of the model on the same chart as the data\n",
    "\n",
    "So the powerful thing is: just by selected a column name, we can create and test a regression model and graph its prediction on the same chart as the data!\n",
    "\n",
    "> \"That is pretty cool.\" - Russell\n",
    "\n",
    "I'm going to just build this one myself, don't feel the need to follow along as you'll get the idea and can refer to the notes later if you'd like.\n",
    "\n",
    "#### LET'S SEE THIS IN ACTION! ---> IDE¶\n",
    "\n",
    "`app4.py`"
   ]
  },
  {
   "cell_type": "markdown",
   "metadata": {},
   "source": [
    "---\n",
    "\n",
    "# Now you have seen the power of Dash and Plotly. Happy visualizing, etc.! Dash can do so much more than just visualizing. It's built on a versatile backend and a hip & powerful frontend, so it can build fully featured web apps (it does have a few limits though).\n",
    "\n",
    "### That is what I am using it for right now - I'm building a fully featured investment analytics platform using Dash (as well as some other things that make it more powerful). \n",
    "\n",
    "\n",
    "---\n",
    "\n",
    "# Fin."
   ]
  },
  {
   "cell_type": "code",
   "execution_count": null,
   "metadata": {},
   "outputs": [],
   "source": []
  }
 ],
 "metadata": {
  "kernelspec": {
   "display_name": "Python 3",
   "language": "python",
   "name": "python3"
  },
  "language_info": {
   "codemirror_mode": {
    "name": "ipython",
    "version": 3
   },
   "file_extension": ".py",
   "mimetype": "text/x-python",
   "name": "python",
   "nbconvert_exporter": "python",
   "pygments_lexer": "ipython3",
   "version": "3.6.7"
  }
 },
 "nbformat": 4,
 "nbformat_minor": 2
}
